{
 "cells": [
  {
   "cell_type": "markdown",
   "id": "648534e5",
   "metadata": {},
   "source": [
    "# Title : Feedback-Driven System"
   ]
  },
  {
   "cell_type": "markdown",
   "id": "db48dc37",
   "metadata": {},
   "source": [
    "# Objective"
   ]
  },
  {
   "cell_type": "markdown",
   "id": "68d01629",
   "metadata": {},
   "source": [
    "Objective: The goal is to create a feedback system where users can provide ratings on various aspects of a service or product. The system will then analyze the feedback to determine areas for improvement and visualize the results."
   ]
  },
  {
   "cell_type": "code",
   "execution_count": null,
   "id": "b9fafa97",
   "metadata": {},
   "outputs": [],
   "source": []
  },
  {
   "cell_type": "markdown",
   "id": "1b1c346c",
   "metadata": {},
   "source": [
    "# 1. Import Libraries"
   ]
  },
  {
   "cell_type": "code",
   "execution_count": 27,
   "id": "1929207e",
   "metadata": {},
   "outputs": [],
   "source": [
    "import numpy as np\n",
    "import matplotlib.pyplot as plt\n"
   ]
  },
  {
   "cell_type": "markdown",
   "id": "7706c1e1",
   "metadata": {},
   "source": [
    "numpy: Used for numerical operations, particularly for calculating averages.\n",
    "matplotlib.pyplot: Used for creating visualizations like bar charts."
   ]
  },
  {
   "cell_type": "markdown",
   "id": "3e181dba",
   "metadata": {},
   "source": [
    "# 2. Function: get_feedback(user_id)"
   ]
  },
  {
   "cell_type": "markdown",
   "id": "eae31470",
   "metadata": {},
   "source": [
    "This function collects feedback from a user."
   ]
  },
  {
   "cell_type": "code",
   "execution_count": 28,
   "id": "5ffae58f",
   "metadata": {},
   "outputs": [],
   "source": [
    "def get_feedback(user_id):\n",
    "    feedback = {}\n",
    "    questions = [\n",
    "        \"How would you rate our service overall?\",\n",
    "        \"How satisfied are you with the quality of our products?\",\n",
    "        \"How would you rate the friendliness of our staff?\",\n",
    "        \"How satisfied are you with the response time of our customer support?\",\n",
    "        \"How likely are you to recommend us to others?\"\n",
    "    ]\n",
    "    \n",
    "    print(f\"\\nUser {user_id}'s Feedback:\")\n",
    "    for i, question in enumerate(questions, 1):\n",
    "        while True:\n",
    "            try:\n",
    "                rating = int(input(f\"Q{i}: {question} (0 to 4, where 0 means poor and 4 means excellent): \"))\n",
    "                if 0 <= rating <= 4:\n",
    "                    break\n",
    "                else:\n",
    "                    print(\"Invalid input. Please enter a number between 0 and 4.\")\n",
    "            except ValueError:\n",
    "                print(\"Invalid input. Please enter a valid number.\")\n",
    "\n",
    "        feedback[f\"Question_{i}_Rating\"] = rating\n",
    "\n",
    "    print(\"Thank you for your feedback!\")\n",
    "    return feedback\n"
   ]
  },
  {
   "cell_type": "markdown",
   "id": "03d33eef",
   "metadata": {},
   "source": [
    "Inputs: Asks the user for feedback on five different questions, with ratings from 0 to 4.\n",
    "\n",
    "Loop: For each question, it ensures valid input (0 to 4) and handles errors.\n",
    "\n",
    "Output: Returns a dictionary where each key is the question number and each value is the user’s rating."
   ]
  },
  {
   "cell_type": "markdown",
   "id": "a7460a9a",
   "metadata": {},
   "source": [
    "# 3. Function: "
   ]
  },
  {
   "cell_type": "markdown",
   "id": "be637bc3",
   "metadata": {},
   "source": [
    "Calculates the average ratings for each question from all users."
   ]
  },
  {
   "cell_type": "code",
   "execution_count": 29,
   "id": "4ffbed27",
   "metadata": {},
   "outputs": [],
   "source": [
    "def calculate_average_ratings(all_feedbacks):\n",
    "    num_questions = 5\n",
    "    ratings = np.zeros((num_questions, len(all_feedbacks)))\n",
    "    \n",
    "    # Collect ratings for each question\n",
    "    for i, feedback in enumerate(all_feedbacks):\n",
    "        for q in range(num_questions):\n",
    "            ratings[q, i] = feedback[f\"Question_{q+1}_Rating\"]\n",
    "    \n",
    "    # Calculate average ratings\n",
    "    average_ratings = np.mean(ratings, axis=1)\n",
    "    return average_ratings\n"
   ]
  },
  {
   "cell_type": "markdown",
   "id": "1bd8df02",
   "metadata": {},
   "source": [
    "ratings array: A 2D numpy array where rows represent questions and columns represent user feedback.\n",
    "\n",
    "Filling ratings array: Loops through all feedbacks and fills the array.\n",
    "\n",
    "Average Calculation: Computes the average rating for each question using np.mean."
   ]
  },
  {
   "cell_type": "markdown",
   "id": "585b29b8",
   "metadata": {},
   "source": [
    "# 4. Function: "
   ]
  },
  {
   "cell_type": "markdown",
   "id": "98333acd",
   "metadata": {},
   "source": [
    "Identifies questions that have an average rating below a certain threshold."
   ]
  },
  {
   "cell_type": "code",
   "execution_count": 30,
   "id": "ad3bda9b",
   "metadata": {},
   "outputs": [],
   "source": [
    "def identify_low_rated_questions(average_ratings, threshold=2.0):\n",
    "    # Determine which questions need improvement\n",
    "    questions_to_improve = [i+1 for i, avg in enumerate(average_ratings) if avg <= threshold]\n",
    "    return questions_to_improve\n"
   ]
  },
  {
   "cell_type": "markdown",
   "id": "ee4ac48d",
   "metadata": {},
   "source": [
    "threshold: Default is 2.0; questions with average ratings below this value are flagged.\n",
    "List Comprehension: Creates a list of question numbers needing improvement based on their average ratings."
   ]
  },
  {
   "cell_type": "markdown",
   "id": "3722a32a",
   "metadata": {},
   "source": [
    "# 5. Function: visualize_feedback(average_ratings)"
   ]
  },
  {
   "cell_type": "markdown",
   "id": "0fa42c45",
   "metadata": {},
   "source": [
    "Visualizes the average ratings using a bar chart."
   ]
  },
  {
   "cell_type": "code",
   "execution_count": 32,
   "id": "5f32b941",
   "metadata": {},
   "outputs": [],
   "source": [
    "def visualize_feedback(average_ratings):\n",
    "    # Plot average ratings\n",
    "    questions = [f\"Question {i+1}\" for i in range(len(average_ratings))]\n",
    "    \n",
    "    plt.figure(figsize=(10, 6))\n",
    "    plt.bar(questions, average_ratings, color='skyblue')\n",
    "    plt.xlabel('Questions')\n",
    "    plt.ylabel('Average Rating')\n",
    "    plt.title('Average Ratings for Each Question')\n",
    "    plt.ylim(0, 4)  # Rating scale is from 0 to 4\n",
    "    plt.show()\n"
   ]
  },
  {
   "cell_type": "markdown",
   "id": "aeabe9f2",
   "metadata": {},
   "source": [
    "plt.bar: Creates a bar chart where each bar represents the average rating for a question.\n",
    "\n",
    "plt.show(): Displays the plot."
   ]
  },
  {
   "cell_type": "markdown",
   "id": "fa23c612",
   "metadata": {},
   "source": [
    "# 6. Function: main_analysis(all_feedbacks)"
   ]
  },
  {
   "cell_type": "markdown",
   "id": "bee1092a",
   "metadata": {},
   "source": [
    "The analysis process."
   ]
  },
  {
   "cell_type": "code",
   "execution_count": 33,
   "id": "87284ba9",
   "metadata": {},
   "outputs": [],
   "source": [
    "def main_analysis(all_feedbacks):\n",
    "    average_ratings = calculate_average_ratings(all_feedbacks)\n",
    "    questions_to_improve = identify_low_rated_questions(average_ratings)\n",
    "\n",
    "    print(\"\\nAnalysis of Feedback Ratings:\")\n",
    "    for i, avg_rating in enumerate(average_ratings, 1):\n",
    "        print(f\"Question {i}: Average Rating = {avg_rating:.2f}\")\n",
    "\n",
    "    if questions_to_improve:\n",
    "        print(f\"\\nQuestions that may need improvement (Average Rating <= 2.0):\")\n",
    "        for q in questions_to_improve:\n",
    "            print(f\"  Question {q}\")\n",
    "    else:\n",
    "        print(\"\\nAll questions have satisfactory ratings.\")\n",
    "    \n",
    "    # Optional: Visualize the feedback\n",
    "    visualize_feedback(average_ratings)\n"
   ]
  },
  {
   "cell_type": "markdown",
   "id": "18861dd9",
   "metadata": {},
   "source": [
    "Calculate Average Ratings: Calls calculate_average_ratings.\n",
    "\n",
    "Identify Questions for Improvement: Calls identify_low_rated_questions.\n",
    "\n",
    "Print Results: Displays average ratings and highlights questions needing improvement.\n",
    "\n",
    "Visualize Feedback: Optionally displays the bar chart."
   ]
  },
  {
   "cell_type": "markdown",
   "id": "43b2bbac",
   "metadata": {},
   "source": [
    "# 7.Function: main()"
   ]
  },
  {
   "cell_type": "markdown",
   "id": "a2a349f0",
   "metadata": {},
   "source": [
    "Manages user interaction and integrates the feedback collection and analysis."
   ]
  },
  {
   "cell_type": "code",
   "execution_count": 34,
   "id": "2c6e5dc1",
   "metadata": {},
   "outputs": [],
   "source": [
    "def main():\n",
    "    while True:\n",
    "        try:\n",
    "            num_users = int(input(\"How many users' feedback would you like to collect? \"))\n",
    "            if num_users > 0:\n",
    "                break\n",
    "            else:\n",
    "                print(\"Please enter a positive integer.\")\n",
    "        except ValueError:\n",
    "            print(\"Invalid input. Please enter a valid number.\")\n",
    "\n",
    "    all_feedbacks = []\n",
    "    for user_id in range(1, num_users + 1):\n",
    "        feedback = get_feedback(user_id)\n",
    "        all_feedbacks.append(feedback)\n",
    "    \n",
    "    # Call the analysis function\n",
    "    main_analysis(all_feedbacks)\n"
   ]
  },
  {
   "cell_type": "markdown",
   "id": "dd925907",
   "metadata": {},
   "source": [
    "Input: Collects the number of users’ feedback to gather.\n",
    "\n",
    "Collect Feedback: Loops through the number of users and collects feedback for each user.\n",
    "\n",
    "Analyze Feedback: Calls main_analysis to process and analyze the collected feedback."
   ]
  },
  {
   "cell_type": "markdown",
   "id": "dfb498e2",
   "metadata": {},
   "source": [
    "# 8. Entry Point"
   ]
  },
  {
   "cell_type": "code",
   "execution_count": 35,
   "id": "dccecb14",
   "metadata": {},
   "outputs": [
    {
     "name": "stdout",
     "output_type": "stream",
     "text": [
      "How many users' feedback would you like to collect? 2\n",
      "\n",
      "User 1's Feedback:\n",
      "Q1: How would you rate our service overall? (0 to 4, where 0 means poor and 4 means excellent): 4\n",
      "Q2: How satisfied are you with the quality of our products? (0 to 4, where 0 means poor and 4 means excellent): 4\n",
      "Q3: How would you rate the friendliness of our staff? (0 to 4, where 0 means poor and 4 means excellent): 4\n",
      "Q4: How satisfied are you with the response time of our customer support? (0 to 4, where 0 means poor and 4 means excellent): 4\n",
      "Q5: How likely are you to recommend us to others? (0 to 4, where 0 means poor and 4 means excellent): 3\n",
      "Thank you for your feedback!\n",
      "\n",
      "User 2's Feedback:\n",
      "Q1: How would you rate our service overall? (0 to 4, where 0 means poor and 4 means excellent): 2\n",
      "Q2: How satisfied are you with the quality of our products? (0 to 4, where 0 means poor and 4 means excellent): 2\n",
      "Q3: How would you rate the friendliness of our staff? (0 to 4, where 0 means poor and 4 means excellent): 1\n",
      "Q4: How satisfied are you with the response time of our customer support? (0 to 4, where 0 means poor and 4 means excellent): 2\n",
      "Q5: How likely are you to recommend us to others? (0 to 4, where 0 means poor and 4 means excellent): 24\n",
      "Invalid input. Please enter a number between 0 and 4.\n",
      "Q5: How likely are you to recommend us to others? (0 to 4, where 0 means poor and 4 means excellent): \n",
      "Invalid input. Please enter a valid number.\n",
      "Q5: How likely are you to recommend us to others? (0 to 4, where 0 means poor and 4 means excellent): 1\n",
      "Thank you for your feedback!\n",
      "\n",
      "Analysis of Feedback Ratings:\n",
      "Question 1: Average Rating = 3.00\n",
      "Question 2: Average Rating = 3.00\n",
      "Question 3: Average Rating = 2.50\n",
      "Question 4: Average Rating = 3.00\n",
      "Question 5: Average Rating = 2.00\n",
      "\n",
      "Questions that may need improvement (Average Rating <= 2.0):\n",
      "  Question 5\n"
     ]
    },
    {
     "data": {
      "image/png": "[encoded data removed]",
      "text/plain": [
       "<Figure size 1000x600 with 1 Axes>"
      ]
     },
     "metadata": {},
     "output_type": "display_data"
    }
   ],
   "source": [
    "if __name__ == \"__main__\":\n",
    "    main()\n"
   ]
  },
  {
   "cell_type": "markdown",
   "id": "b63ba095",
   "metadata": {},
   "source": [
    "__name__ Check: Ensures that main() runs only if the script is executed directly, not if it’s imported as a module."
   ]
  },
  {
   "cell_type": "markdown",
   "id": "42a81dbc",
   "metadata": {},
   "source": [
    "This code provides a complete workflow for collecting user feedback, analyzing it, and visualizing the results. It starts by collecting feedback, calculates and analyzes ratings, and finally presents the results both in text and graphical formats."
   ]
  },
  {
   "cell_type": "markdown",
   "id": "bef2e2a9",
   "metadata": {},
   "source": [
    "# Complete Function"
   ]
  },
  {
   "cell_type": "code",
   "execution_count": null,
   "id": "fc92b86b",
   "metadata": {},
   "outputs": [],
   "source": [
    "\"\"\"\"\n",
    "import numpy as np\n",
    "import matplotlib.pyplot as plt\n",
    "\n",
    "def get_feedback(user_id):\n",
    "    feedback = {}\n",
    "    questions = [\n",
    "        \"How would you rate our service overall?\",\n",
    "        \"How satisfied are you with the quality of our products?\",\n",
    "        \"How would you rate the friendliness of our staff?\",\n",
    "        \"How satisfied are you with the response time of our customer support?\",\n",
    "        \"How likely are you to recommend us to others?\"\n",
    "    ]\n",
    "    \n",
    "    print(f\"\\nUser {user_id}'s Feedback:\")\n",
    "    for i, question in enumerate(questions, 1):\n",
    "        while True:\n",
    "            try:\n",
    "                rating = int(input(f\"Q{i}: {question} (0 to 4, where 0 means poor and 4 means excellent): \"))\n",
    "                if 0 <= rating <= 4:\n",
    "                    break\n",
    "                else:\n",
    "                    print(\"Invalid input. Please enter a number between 0 and 4.\")\n",
    "            except ValueError:\n",
    "                print(\"Invalid input. Please enter a valid number.\")\n",
    "\n",
    "        feedback[f\"Question_{i}_Rating\"] = rating\n",
    "\n",
    "    print(\"Thank you for your feedback!\")\n",
    "    return feedback\n",
    "\n",
    "def calculate_average_ratings(all_feedbacks):\n",
    "    num_questions = 5\n",
    "    ratings = np.zeros((num_questions, len(all_feedbacks)))\n",
    "    \n",
    "    # Collect ratings for each question\n",
    "    for i, feedback in enumerate(all_feedbacks):\n",
    "        for q in range(num_questions):\n",
    "            ratings[q, i] = feedback[f\"Question_{q+1}_Rating\"]\n",
    "    \n",
    "    # Calculate average ratings\n",
    "    average_ratings = np.mean(ratings, axis=1)\n",
    "    return average_ratings\n",
    "\n",
    "def identify_low_rated_questions(average_ratings, threshold=2.0):\n",
    "    # Determine which questions need improvement\n",
    "    questions_to_improve = [i+1 for i, avg in enumerate(average_ratings) if avg <= threshold]\n",
    "    return questions_to_improve\n",
    "\n",
    "def visualize_feedback(average_ratings):\n",
    "    # Plot average ratings\n",
    "    questions = [f\"Question {i+1}\" for i in range(len(average_ratings))]\n",
    "    \n",
    "    plt.figure(figsize=(10, 6))\n",
    "    plt.bar(questions, average_ratings, color='skyblue')\n",
    "    plt.xlabel('Questions')\n",
    "    plt.ylabel('Average Rating')\n",
    "    plt.title('Average Ratings for Each Question')\n",
    "    plt.ylim(0, 4)  # Rating scale is from 0 to 4\n",
    "    plt.show()\n",
    "\n",
    "def main_analysis(all_feedbacks):\n",
    "    average_ratings = calculate_average_ratings(all_feedbacks)\n",
    "    questions_to_improve = identify_low_rated_questions(average_ratings)\n",
    "\n",
    "    print(\"\\nAnalysis of Feedback Ratings:\")\n",
    "    for i, avg_rating in enumerate(average_ratings, 1):\n",
    "        print(f\"Question {i}: Average Rating = {avg_rating:.2f}\")\n",
    "\n",
    "    if questions_to_improve:\n",
    "        print(f\"\\nQuestions that may need improvement (Average Rating <= 2.0):\")\n",
    "        for q in questions_to_improve:\n",
    "            print(f\"  Question {q}\")\n",
    "    else:\n",
    "        print(\"\\nAll questions have satisfactory ratings.\")\n",
    "    \n",
    "    # Optional: Visualize the feedback\n",
    "    visualize_feedback(average_ratings)\n",
    "\n",
    "def main():\n",
    "    while True:\n",
    "        try:\n",
    "            num_users = int(input(\"How many users' feedback would you like to collect? \"))\n",
    "            if num_users > 0:\n",
    "                break\n",
    "            else:\n",
    "                print(\"Please enter a positive integer.\")\n",
    "        except ValueError:\n",
    "            print(\"Invalid input. Please enter a valid number.\")\n",
    "\n",
    "    all_feedbacks = []\n",
    "    for user_id in range(1, num_users + 1):\n",
    "        feedback = get_feedback(user_id)\n",
    "        all_feedbacks.append(feedback)\n",
    "    \n",
    "    # Call the analysis function\n",
    "    main_analysis(all_feedbacks)\n",
    "\n",
    "if __name__ == \"__main__\":\n",
    "    main()\n",
    "    \n",
    "\n",
    "\"\"\""
   ]
  },
  {
   "cell_type": "markdown",
   "id": "aa019d85",
   "metadata": {},
   "source": [
    "# Application:"
   ]
  },
  {
   "cell_type": "markdown",
   "id": "0fa9dfab",
   "metadata": {},
   "source": [
    "1. Customer Service Improvement\n",
    "Application: Businesses can use this system to gather feedback from customers regarding their service experiences.\n",
    "Benefit: Helps identify strengths and weaknesses in customer service, allowing companies to make targeted improvements. For example, if feedback indicates long wait times, a business can address staffing or process issues.\n",
    "\n",
    "2. Product Development\n",
    "Application: Companies can collect feedback on products to understand customer satisfaction with different features and overall quality.\n",
    "Benefit: Provides insights into which features are well-received and which need improvement, guiding product development and innovation. This can lead to more user-friendly and successful products.\n",
    "\n",
    "3. Educational Institutions\n",
    "Application: Schools, colleges, and universities can gather feedback from students about teaching methods, course content, and facilities.\n",
    "Benefit: Helps educators and administrators improve teaching quality, course structure, and campus amenities, enhancing the overall educational experience.\n",
    "\n",
    "4. Healthcare Services\n",
    "Application: Hospitals and clinics can use feedback to evaluate patient satisfaction with medical care, staff interactions, and facility conditions.\n",
    "Benefit: Identifies areas where patient care can be improved, contributing to better health outcomes and higher patient satisfaction.\n",
    "\n",
    "5. Event Management\n",
    "Application: Organizers of events (e.g., conferences, workshops, festivals) can collect attendee feedback on various aspects of the event, such as organization, content, and logistics.\n",
    "Benefit: Helps improve future events by addressing issues reported by attendees, ensuring a better experience for future participants.\n",
    "\n",
    "6. Online Platforms and Services\n",
    "Application: Websites, mobile apps, and online services can use feedback to assess user satisfaction with the user interface, functionality, and overall experience.\n",
    "Benefit: Provides actionable insights to improve user experience, leading to higher user retention and engagement.\n",
    "\n",
    "8. Government and Public Services\n",
    "Application: Government agencies can collect feedback on public services such as transportation, utility services, and community programs.\n",
    "Benefit: Improves service delivery and addresses public concerns effectively, leading to increased public satisfaction and trust.\n",
    "\n",
    "9. Marketing and Advertising\n",
    "Application: Marketing teams can use feedback to evaluate the effectiveness of campaigns, advertisements, and promotional activities.\n",
    "Benefit: Refines marketing strategies and messaging based on consumer responses, leading to more effective campaigns and better ROI.\n",
    "\n",
    "10. Nonprofit Organizations\n",
    "Application: Nonprofits can gather feedback from beneficiaries and donors about their programs, services, and impact.\n",
    "Benefit: Enhances program effectiveness and donor engagement by addressing feedback and improving operational practices.\n"
   ]
  },
  {
   "cell_type": "markdown",
   "id": "e15051bd",
   "metadata": {},
   "source": [
    "# Conclusion"
   ]
  },
  {
   "cell_type": "markdown",
   "id": "9ff0a6ab",
   "metadata": {},
   "source": [
    "The Feedback-Driven Improvement System is a powerful tool for organizations seeking to enhance their services, products, and overall user experience. By systematically collecting and analyzing user feedback, businesses and institutions can gain valuable insights into areas needing improvement and make data-driven decisions to address these areas."
   ]
  }
 ],
 "metadata": {
  "kernelspec": {
   "display_name": "Python 3 (ipykernel)",
   "language": "python",
   "name": "python3"
  },
  "language_info": {
   "codemirror_mode": {
    "name": "ipython",
    "version": 3
   },
   "file_extension": ".py",
   "mimetype": "text/x-python",
   "name": "python",
   "nbconvert_exporter": "python",
   "pygments_lexer": "ipython3",
   "version": "3.11.5"
  }
 },
 "nbformat": 4,
 "nbformat_minor": 5
}
